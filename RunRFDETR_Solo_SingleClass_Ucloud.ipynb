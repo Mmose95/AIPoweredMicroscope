{
 "cells": [
  {
   "metadata": {},
   "cell_type": "code",
   "outputs": [],
   "execution_count": null,
   "source": [
    "import os, subprocess, torch\n",
    "%cd /work/projects/myproj\n",
    "os.environ[\"MASTER_ADDR\"]=\"127.0.0.1\"; os.environ[\"MASTER_PORT\"]=\"29500\"\n",
    "subprocess.run([\"torchrun\", f\"--nproc_per_node={torch.cuda.device_count()}\",\n",
    "                \"split_by_sample_class_balanced_constrained.py\"], check=True)"
   ],
   "id": "e4038c821f27b8e8"
  }
 ],
 "metadata": {
  "kernelspec": {
   "display_name": "Python 3",
   "language": "python",
   "name": "python3"
  },
  "language_info": {
   "codemirror_mode": {
    "name": "ipython",
    "version": 2
   },
   "file_extension": ".py",
   "mimetype": "text/x-python",
   "name": "python",
   "nbconvert_exporter": "python",
   "pygments_lexer": "ipython2",
   "version": "2.7.6"
  }
 },
 "nbformat": 4,
 "nbformat_minor": 5
}
