{
 "cells": [
  {
   "metadata": {},
   "cell_type": "code",
   "outputs": [],
   "execution_count": null,
   "source": [
    "import os, sys, subprocess, torch\n",
    "%cd /work/projects/myproj\n",
    "os.environ[\"MASTER_ADDR\"]=\"127.0.0.1\"\n",
    "os.environ[\"MASTER_PORT\"]=\"29500\"\n",
    "subprocess.run([sys.executable, \"-m\", \"torch.distributed.run\",\n",
    "                f\"--nproc_per_node={torch.cuda.device_count()}\",\n",
    "                \"TrainRFDETR_Solo_SingleClass_Ucloud.py\"], check=True)\n"
   ],
   "id": "e4038c821f27b8e8"
  }
 ],
 "metadata": {
  "kernelspec": {
   "display_name": "Python 3",
   "language": "python",
   "name": "python3"
  },
  "language_info": {
   "codemirror_mode": {
    "name": "ipython",
    "version": 2
   },
   "file_extension": ".py",
   "mimetype": "text/x-python",
   "name": "python",
   "nbconvert_exporter": "python",
   "pygments_lexer": "ipython2",
   "version": "2.7.6"
  }
 },
 "nbformat": 4,
 "nbformat_minor": 5
}
