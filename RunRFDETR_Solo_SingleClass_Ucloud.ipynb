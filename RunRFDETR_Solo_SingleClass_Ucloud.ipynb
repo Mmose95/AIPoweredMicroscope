{
 "cells": [
  {
   "metadata": {},
   "cell_type": "code",
   "outputs": [],
   "execution_count": null,
   "source": [
    "import os, sys, subprocess, torch\n",
    "%cd /work/projects/myproj\n",
    "os.environ[\"MASTER_ADDR\"]=\"127.0.0.1\"\n",
    "os.environ[\"MASTER_PORT\"]=\"29500\"\n",
    "subprocess.run([sys.executable, \"-m\", \"torch.distributed.run\",\n",
    "                f\"--nproc_per_node={torch.cuda.device_count()}\",\n",
    "                \"TrainRFDETR_Solo_SingleClass_Ucloud.py\"], check=True)\n"
   ],
   "id": "e4038c821f27b8e8"
  },
  {
   "metadata": {},
   "cell_type": "code",
   "outputs": [],
   "execution_count": null,
   "source": [
    "import os, sys, subprocess, torch, shutil\n",
    "%cd /work/projects/myproj\n",
    "\n",
    "# sanity + env\n",
    "n = torch.cuda.device_count()\n",
    "os.environ[\"MASTER_ADDR\"] = \"127.0.0.1\"\n",
    "os.environ[\"MASTER_PORT\"] = \"29500\"\n",
    "\n",
    "# Prefer console script if present, else use module\n",
    "torchrun_path = shutil.which(\"torchrun\")\n",
    "if torchrun_path:\n",
    "    cmd = [torchrun_path, f\"--nproc_per_node={n}\", \"TrainRFDETR_Solo_SingleClass_Ucloud.py\"]\n",
    "else:\n",
    "    # Works even when the console script isn't installed/visible\n",
    "    # (PyTorch ≥1.9): torch.distributed.run; for very old, fallback to .launch\n",
    "    try:\n",
    "        import importlib\n",
    "        importlib.import_module(\"torch.distributed.run\")\n",
    "        dist_module = \"torch.distributed.run\"\n",
    "    except Exception:\n",
    "        dist_module = \"torch.distributed.launch\"  # deprecated fallback\n",
    "    cmd = [sys.executable, \"-m\", dist_module, f\"--nproc_per_node={n}\", \"TrainRFDETR_Solo_SingleClass_Ucloud.py\"]\n",
    "\n",
    "print(\"Launching:\", \" \".join(cmd))\n",
    "subprocess.run(cmd, check=True)"
   ],
   "id": "e9792340b537b19a"
  }
 ],
 "metadata": {
  "kernelspec": {
   "display_name": "Python 3",
   "language": "python",
   "name": "python3"
  },
  "language_info": {
   "codemirror_mode": {
    "name": "ipython",
    "version": 2
   },
   "file_extension": ".py",
   "mimetype": "text/x-python",
   "name": "python",
   "nbconvert_exporter": "python",
   "pygments_lexer": "ipython2",
   "version": "2.7.6"
  }
 },
 "nbformat": 4,
 "nbformat_minor": 5
}
