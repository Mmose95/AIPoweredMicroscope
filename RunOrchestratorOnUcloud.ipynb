{
 "cells": [
  {
   "metadata": {
    "ExecuteTime": {
     "end_time": "2025-09-24T13:46:52.825977Z",
     "start_time": "2025-09-24T13:46:46.874387Z"
    }
   },
   "cell_type": "code",
   "source": [
    "%cd /work/projects/myproj\n",
    "# If your UCloud paths are hardcoded in the file, just run it:\n",
    "%run -i Main_Orchestrator_UCloud.py\n"
   ],
   "id": "a2617c5218e55ec4",
   "outputs": [
    {
     "name": "stderr",
     "output_type": "stream",
     "text": [
      "C:\\Users\\SH37YE\\AppData\\Local\\anaconda3\\envs\\AI_PowMic\\lib\\site-packages\\IPython\\core\\magics\\osm.py:393: UserWarning: This is now an optional IPython functionality, using bookmarks requires you to install the `pickleshare` library.\n",
      "  bkms = self.shell.db.get('bookmarks', {})\n"
     ]
    },
    {
     "name": "stdout",
     "output_type": "stream",
     "text": [
      "[WinError 3] The system cannot find the path specified: '/work/projects/myproj'\n",
      "C:\\Users\\SH37YE\\Desktop\\PhD_Code_github\\AIPoweredMicroscope\n"
     ]
    },
    {
     "name": "stderr",
     "output_type": "stream",
     "text": [
      "A matching Triton is not available, some optimizations will not be enabled.\n",
      "Error caught was: No module named 'triton'\n",
      "C:\\Users\\SH37YE\\Desktop\\PhD_Code_github\\AIPoweredMicroscope\\dinov2\\layers\\swiglu_ffn.py:43: UserWarning: xFormers is available (SwiGLU)\n",
      "  warnings.warn(\"xFormers is available (SwiGLU)\")\n",
      "C:\\Users\\SH37YE\\Desktop\\PhD_Code_github\\AIPoweredMicroscope\\dinov2\\layers\\attention.py:27: UserWarning: xFormers is available (Attention)\n",
      "  warnings.warn(\"xFormers is available (Attention)\")\n",
      "C:\\Users\\SH37YE\\Desktop\\PhD_Code_github\\AIPoweredMicroscope\\dinov2\\layers\\block.py:33: UserWarning: xFormers is available (Block)\n",
      "  warnings.warn(\"xFormers is available (Block)\")\n"
     ]
    },
    {
     "ename": "RuntimeError",
     "evalue": "Could not determine USER_BASE_DIR",
     "output_type": "error",
     "traceback": [
      "\u001B[1;31m---------------------------------------------------------------------------\u001B[0m",
      "\u001B[1;31mRuntimeError\u001B[0m                              Traceback (most recent call last)",
      "File \u001B[1;32m~\\Desktop\\PhD_Code_github\\AIPoweredMicroscope\\Main_Orchestrator_UCloud.py:37\u001B[0m\n\u001B[0;32m     35\u001B[0m USER_BASE_DIR \u001B[38;5;241m=\u001B[39m os\u001B[38;5;241m.\u001B[39menviron\u001B[38;5;241m.\u001B[39mget(\u001B[38;5;124m\"\u001B[39m\u001B[38;5;124mUSER_BASE_DIR\u001B[39m\u001B[38;5;124m\"\u001B[39m) \u001B[38;5;129;01mor\u001B[39;00m _detect_user_base()\n\u001B[0;32m     36\u001B[0m \u001B[38;5;28;01mif\u001B[39;00m \u001B[38;5;129;01mnot\u001B[39;00m USER_BASE_DIR:\n\u001B[1;32m---> 37\u001B[0m     \u001B[38;5;28;01mraise\u001B[39;00m \u001B[38;5;167;01mRuntimeError\u001B[39;00m(\u001B[38;5;124m\"\u001B[39m\u001B[38;5;124mCould not determine USER_BASE_DIR\u001B[39m\u001B[38;5;124m\"\u001B[39m)\n\u001B[0;32m     38\u001B[0m os\u001B[38;5;241m.\u001B[39menviron[\u001B[38;5;124m\"\u001B[39m\u001B[38;5;124mUSER_BASE_DIR\u001B[39m\u001B[38;5;124m\"\u001B[39m] \u001B[38;5;241m=\u001B[39m USER_BASE_DIR  \u001B[38;5;66;03m# make it available to child processes too\u001B[39;00m\n\u001B[0;32m     40\u001B[0m \u001B[38;5;28mprint\u001B[39m(\u001B[38;5;124m\"\u001B[39m\u001B[38;5;124mUSER_BASE_DIR =\u001B[39m\u001B[38;5;124m\"\u001B[39m, USER_BASE_DIR)\n",
      "\u001B[1;31mRuntimeError\u001B[0m: Could not determine USER_BASE_DIR"
     ]
    }
   ],
   "execution_count": 1
  }
 ],
 "metadata": {
  "kernelspec": {
   "display_name": "Python 3",
   "language": "python",
   "name": "python3"
  },
  "language_info": {
   "codemirror_mode": {
    "name": "ipython",
    "version": 2
   },
   "file_extension": ".py",
   "mimetype": "text/x-python",
   "name": "python",
   "nbconvert_exporter": "python",
   "pygments_lexer": "ipython2",
   "version": "2.7.6"
  }
 },
 "nbformat": 4,
 "nbformat_minor": 5
}
